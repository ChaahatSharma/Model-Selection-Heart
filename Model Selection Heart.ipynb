{
 "cells": [
  {
   "cell_type": "code",
   "execution_count": 1,
   "id": "0f8c3d36",
   "metadata": {},
   "outputs": [],
   "source": [
    "import numpy as np\n",
    "import pandas as pd\n",
    "from sklearn.model_selection import cross_val_score\n",
    "from sklearn.model_selection import GridSearchCV"
   ]
  },
  {
   "cell_type": "code",
   "execution_count": 2,
   "id": "d49d1306",
   "metadata": {},
   "outputs": [],
   "source": [
    "from sklearn.linear_model import LogisticRegression\n",
    "from sklearn.svm import SVC\n",
    "from sklearn.neighbors import KNeighborsClassifier\n",
    "from sklearn.ensemble import RandomForestClassifier"
   ]
  },
  {
   "cell_type": "code",
   "execution_count": 3,
   "id": "72586aa0",
   "metadata": {},
   "outputs": [],
   "source": [
    "heart = pd.read_csv('heart.csv')"
   ]
  },
  {
   "cell_type": "code",
   "execution_count": 4,
   "id": "e378a38a",
   "metadata": {},
   "outputs": [
    {
     "data": {
      "text/html": [
       "<div>\n",
       "<style scoped>\n",
       "    .dataframe tbody tr th:only-of-type {\n",
       "        vertical-align: middle;\n",
       "    }\n",
       "\n",
       "    .dataframe tbody tr th {\n",
       "        vertical-align: top;\n",
       "    }\n",
       "\n",
       "    .dataframe thead th {\n",
       "        text-align: right;\n",
       "    }\n",
       "</style>\n",
       "<table border=\"1\" class=\"dataframe\">\n",
       "  <thead>\n",
       "    <tr style=\"text-align: right;\">\n",
       "      <th></th>\n",
       "      <th>age</th>\n",
       "      <th>sex</th>\n",
       "      <th>cp</th>\n",
       "      <th>trestbps</th>\n",
       "      <th>chol</th>\n",
       "      <th>fbs</th>\n",
       "      <th>restecg</th>\n",
       "      <th>thalach</th>\n",
       "      <th>exang</th>\n",
       "      <th>oldpeak</th>\n",
       "      <th>slope</th>\n",
       "      <th>ca</th>\n",
       "      <th>thal</th>\n",
       "      <th>target</th>\n",
       "    </tr>\n",
       "  </thead>\n",
       "  <tbody>\n",
       "    <tr>\n",
       "      <th>0</th>\n",
       "      <td>63</td>\n",
       "      <td>1</td>\n",
       "      <td>3</td>\n",
       "      <td>145</td>\n",
       "      <td>233</td>\n",
       "      <td>1</td>\n",
       "      <td>0</td>\n",
       "      <td>150</td>\n",
       "      <td>0</td>\n",
       "      <td>2.3</td>\n",
       "      <td>0</td>\n",
       "      <td>0</td>\n",
       "      <td>1</td>\n",
       "      <td>1</td>\n",
       "    </tr>\n",
       "    <tr>\n",
       "      <th>1</th>\n",
       "      <td>37</td>\n",
       "      <td>1</td>\n",
       "      <td>2</td>\n",
       "      <td>130</td>\n",
       "      <td>250</td>\n",
       "      <td>0</td>\n",
       "      <td>1</td>\n",
       "      <td>187</td>\n",
       "      <td>0</td>\n",
       "      <td>3.5</td>\n",
       "      <td>0</td>\n",
       "      <td>0</td>\n",
       "      <td>2</td>\n",
       "      <td>1</td>\n",
       "    </tr>\n",
       "    <tr>\n",
       "      <th>2</th>\n",
       "      <td>41</td>\n",
       "      <td>0</td>\n",
       "      <td>1</td>\n",
       "      <td>130</td>\n",
       "      <td>204</td>\n",
       "      <td>0</td>\n",
       "      <td>0</td>\n",
       "      <td>172</td>\n",
       "      <td>0</td>\n",
       "      <td>1.4</td>\n",
       "      <td>2</td>\n",
       "      <td>0</td>\n",
       "      <td>2</td>\n",
       "      <td>1</td>\n",
       "    </tr>\n",
       "    <tr>\n",
       "      <th>3</th>\n",
       "      <td>56</td>\n",
       "      <td>1</td>\n",
       "      <td>1</td>\n",
       "      <td>120</td>\n",
       "      <td>236</td>\n",
       "      <td>0</td>\n",
       "      <td>1</td>\n",
       "      <td>178</td>\n",
       "      <td>0</td>\n",
       "      <td>0.8</td>\n",
       "      <td>2</td>\n",
       "      <td>0</td>\n",
       "      <td>2</td>\n",
       "      <td>1</td>\n",
       "    </tr>\n",
       "    <tr>\n",
       "      <th>4</th>\n",
       "      <td>57</td>\n",
       "      <td>0</td>\n",
       "      <td>0</td>\n",
       "      <td>120</td>\n",
       "      <td>354</td>\n",
       "      <td>0</td>\n",
       "      <td>1</td>\n",
       "      <td>163</td>\n",
       "      <td>1</td>\n",
       "      <td>0.6</td>\n",
       "      <td>2</td>\n",
       "      <td>0</td>\n",
       "      <td>2</td>\n",
       "      <td>1</td>\n",
       "    </tr>\n",
       "  </tbody>\n",
       "</table>\n",
       "</div>"
      ],
      "text/plain": [
       "   age  sex  cp  trestbps  chol  fbs  restecg  thalach  exang  oldpeak  slope  \\\n",
       "0   63    1   3       145   233    1        0      150      0      2.3      0   \n",
       "1   37    1   2       130   250    0        1      187      0      3.5      0   \n",
       "2   41    0   1       130   204    0        0      172      0      1.4      2   \n",
       "3   56    1   1       120   236    0        1      178      0      0.8      2   \n",
       "4   57    0   0       120   354    0        1      163      1      0.6      2   \n",
       "\n",
       "   ca  thal  target  \n",
       "0   0     1       1  \n",
       "1   0     2       1  \n",
       "2   0     2       1  \n",
       "3   0     2       1  \n",
       "4   0     2       1  "
      ]
     },
     "execution_count": 4,
     "metadata": {},
     "output_type": "execute_result"
    }
   ],
   "source": [
    "heart.head(5)"
   ]
  },
  {
   "cell_type": "code",
   "execution_count": 5,
   "id": "21463892",
   "metadata": {},
   "outputs": [
    {
     "data": {
      "text/plain": [
       "1    165\n",
       "0    138\n",
       "Name: target, dtype: int64"
      ]
     },
     "execution_count": 5,
     "metadata": {},
     "output_type": "execute_result"
    }
   ],
   "source": [
    "heart['target'].value_counts()"
   ]
  },
  {
   "cell_type": "code",
   "execution_count": 6,
   "id": "49d94a0a",
   "metadata": {},
   "outputs": [],
   "source": [
    "X = heart.drop(columns = 'target', axis = 1)\n",
    "Y = heart['target']"
   ]
  },
  {
   "cell_type": "code",
   "execution_count": 7,
   "id": "88172de7",
   "metadata": {},
   "outputs": [],
   "source": [
    "X = np.asarray(X)\n",
    "Y = np.asarray(Y)"
   ]
  },
  {
   "cell_type": "markdown",
   "id": "2759a691",
   "metadata": {},
   "source": [
    "### Model Selection"
   ]
  },
  {
   "cell_type": "markdown",
   "id": "3906be56",
   "metadata": {},
   "source": [
    "### Compare model with default hyparams using Cross Validation"
   ]
  },
  {
   "cell_type": "code",
   "execution_count": 11,
   "id": "bbed6eaa",
   "metadata": {},
   "outputs": [],
   "source": [
    "# list of models\n",
    "\n",
    "models = [LogisticRegression(max_iter = 1000), SVC(kernel = 'linear'), KNeighborsClassifier(), RandomForestClassifier(random_state = 0)]\n"
   ]
  },
  {
   "cell_type": "code",
   "execution_count": 14,
   "id": "91fe069b",
   "metadata": {},
   "outputs": [],
   "source": [
    "def compare_models_default():\n",
    "    for model in models:\n",
    "        cv_score = cross_val_score(model, X, Y, cv = 3)\n",
    "        mean_acc = round(sum(cv_score)/len(cv_score)*100, 2)\n",
    "        \n",
    "        print('Cross Val Acc in ', model, ' = ', cv_score)\n",
    "        print('Accuracy Score of ', model, ' = ', mean_acc)\n",
    "        print(' - - - - - - - - - - - - - - - - - - - - - - - ')"
   ]
  },
  {
   "cell_type": "code",
   "execution_count": 15,
   "id": "b9ce81bc",
   "metadata": {},
   "outputs": [
    {
     "name": "stdout",
     "output_type": "stream",
     "text": [
      "Cross Val Acc in  LogisticRegression(max_iter=1000)  =  [0.85148515 0.87128713 0.8019802 ]\n",
      "Accuracy Score of  LogisticRegression(max_iter=1000)  =  84.16\n",
      " - - - - - - - - - - - - - - - - - - - - - - - \n",
      "Cross Val Acc in  SVC(kernel='linear')  =  [0.84158416 0.86138614 0.81188119]\n",
      "Accuracy Score of  SVC(kernel='linear')  =  83.83\n",
      " - - - - - - - - - - - - - - - - - - - - - - - \n",
      "Cross Val Acc in  KNeighborsClassifier()  =  [0.62376238 0.6039604  0.66336634]\n",
      "Accuracy Score of  KNeighborsClassifier()  =  63.04\n",
      " - - - - - - - - - - - - - - - - - - - - - - - \n",
      "Cross Val Acc in  RandomForestClassifier(random_state=0)  =  [0.84158416 0.85148515 0.77227723]\n",
      "Accuracy Score of  RandomForestClassifier(random_state=0)  =  82.18\n",
      " - - - - - - - - - - - - - - - - - - - - - - - \n"
     ]
    }
   ],
   "source": [
    "compare_models_default()"
   ]
  },
  {
   "cell_type": "markdown",
   "id": "53c90477",
   "metadata": {},
   "source": [
    "### Comparing models with different hyparams using GridSearchCV"
   ]
  },
  {
   "cell_type": "code",
   "execution_count": 45,
   "id": "1e2a3b1f",
   "metadata": {},
   "outputs": [],
   "source": [
    "models = [LogisticRegression(max_iter = 10000), SVC(), KNeighborsClassifier(), RandomForestClassifier(random_state = 0)]"
   ]
  },
  {
   "cell_type": "code",
   "execution_count": 46,
   "id": "8a8a3b4e",
   "metadata": {},
   "outputs": [],
   "source": [
    "model_hyparams = {\n",
    "    'lr_hyparams':{\n",
    "        'C':[1, 3, 6, 9]\n",
    "    },\n",
    "    'svc_hyparams':{\n",
    "        'kernel':['linear','poly','rbf','sigmoid'],\n",
    "        'C':[1, 3, 6, 9]\n",
    "    },\n",
    "    'knn_hyparams':{\n",
    "        'n_neighbors': [2, 4, 6, 9]\n",
    "    },\n",
    "    'rf_hyparams':{\n",
    "        'n_estimators': [10, 20, 50, 100]\n",
    "    }\n",
    "}"
   ]
  },
  {
   "cell_type": "code",
   "execution_count": 47,
   "id": "57ed29c8",
   "metadata": {},
   "outputs": [
    {
     "name": "stdout",
     "output_type": "stream",
     "text": [
      "dict_keys(['lr_hyparams', 'svc_hyparams', 'knn_hyparams', 'rf_hyparams'])\n"
     ]
    }
   ],
   "source": [
    "print(model_hyparams.keys())"
   ]
  },
  {
   "cell_type": "code",
   "execution_count": 48,
   "id": "eda6a4ef",
   "metadata": {},
   "outputs": [
    {
     "name": "stdout",
     "output_type": "stream",
     "text": [
      "dict_values([{'C': [1, 3, 6, 9]}, {'kernel': ['linear', 'poly', 'rbf', 'sigmoid'], 'C': [1, 3, 6, 9]}, {'n_neighbors': [2, 4, 6, 9]}, {'n_estimators': [10, 20, 50, 100]}])\n"
     ]
    }
   ],
   "source": [
    "print(model_hyparams.values())"
   ]
  },
  {
   "cell_type": "code",
   "execution_count": 49,
   "id": "693def71",
   "metadata": {},
   "outputs": [
    {
     "name": "stdout",
     "output_type": "stream",
     "text": [
      "['lr_hyparams', 'svc_hyparams', 'knn_hyparams', 'rf_hyparams']\n"
     ]
    }
   ],
   "source": [
    "model_keys = list(model_hyparams.keys())\n",
    "print(model_keys)"
   ]
  },
  {
   "cell_type": "code",
   "execution_count": 50,
   "id": "21100455",
   "metadata": {},
   "outputs": [
    {
     "data": {
      "text/plain": [
       "{'C': [1, 3, 6, 9]}"
      ]
     },
     "execution_count": 50,
     "metadata": {},
     "output_type": "execute_result"
    }
   ],
   "source": [
    "model_hyparams['lr_hyparams']"
   ]
  },
  {
   "cell_type": "code",
   "execution_count": 51,
   "id": "b3172aa1",
   "metadata": {},
   "outputs": [
    {
     "data": {
      "text/plain": [
       "{'kernel': ['linear', 'poly', 'rbf', 'sigmoid'], 'C': [1, 3, 6, 9]}"
      ]
     },
     "execution_count": 51,
     "metadata": {},
     "output_type": "execute_result"
    }
   ],
   "source": [
    "model_hyparams['svc_hyparams']"
   ]
  },
  {
   "cell_type": "code",
   "execution_count": 52,
   "id": "23f6ad5c",
   "metadata": {},
   "outputs": [
    {
     "data": {
      "text/plain": [
       "'svc_hyparams'"
      ]
     },
     "execution_count": 52,
     "metadata": {},
     "output_type": "execute_result"
    }
   ],
   "source": [
    "model_keys[1]"
   ]
  },
  {
   "cell_type": "code",
   "execution_count": 53,
   "id": "652e0b17",
   "metadata": {},
   "outputs": [],
   "source": [
    "# converting the keys into list - model_keys"
   ]
  },
  {
   "cell_type": "code",
   "execution_count": 54,
   "id": "8ffa8a05",
   "metadata": {},
   "outputs": [
    {
     "data": {
      "text/plain": [
       "{'n_neighbors': [2, 4, 6, 9]}"
      ]
     },
     "execution_count": 54,
     "metadata": {},
     "output_type": "execute_result"
    }
   ],
   "source": [
    "model_hyparams[model_keys[2]]"
   ]
  },
  {
   "cell_type": "markdown",
   "id": "7379ff5d",
   "metadata": {},
   "source": [
    "#### Applying GridSearchCV"
   ]
  },
  {
   "cell_type": "code",
   "execution_count": 55,
   "id": "065df07d",
   "metadata": {},
   "outputs": [],
   "source": [
    "def model_selection(models_list, hyp_dict):\n",
    "    result = []\n",
    "    \n",
    "    i = 0\n",
    "    for model in models_list:\n",
    "        key = model_keys[i]\n",
    "        \n",
    "        params = hyp_dict[key]\n",
    "        i +=1\n",
    "        print(model)\n",
    "        print(params)\n",
    "        print('- - - - - - - - - - - - - -')\n",
    "        \n",
    "        classify = GridSearchCV(model, params, cv = 3)\n",
    "        \n",
    "        classify.fit(X, Y)\n",
    "        \n",
    "        result.append({\n",
    "            'Model Used':model,\n",
    "            'Highest Score':classify.best_score_,\n",
    "            'Best Params': classify.best_params_\n",
    "        })\n",
    "        \n",
    "    result_df = pd.DataFrame(result, columns = ['Model Used', 'Highest Score', 'Best Params'])\n",
    "        \n",
    "    return result_df"
   ]
  },
  {
   "cell_type": "code",
   "execution_count": 56,
   "id": "dd56fd45",
   "metadata": {},
   "outputs": [
    {
     "name": "stdout",
     "output_type": "stream",
     "text": [
      "LogisticRegression(max_iter=10000)\n",
      "{'C': [1, 3, 6, 9]}\n",
      "- - - - - - - - - - - - - -\n",
      "SVC()\n",
      "{'kernel': ['linear', 'poly', 'rbf', 'sigmoid'], 'C': [1, 3, 6, 9]}\n",
      "- - - - - - - - - - - - - -\n",
      "KNeighborsClassifier()\n",
      "{'n_neighbors': [2, 4, 6, 9]}\n",
      "- - - - - - - - - - - - - -\n",
      "RandomForestClassifier(random_state=0)\n",
      "{'n_estimators': [10, 20, 50, 100]}\n",
      "- - - - - - - - - - - - - -\n"
     ]
    },
    {
     "data": {
      "text/html": [
       "<div>\n",
       "<style scoped>\n",
       "    .dataframe tbody tr th:only-of-type {\n",
       "        vertical-align: middle;\n",
       "    }\n",
       "\n",
       "    .dataframe tbody tr th {\n",
       "        vertical-align: top;\n",
       "    }\n",
       "\n",
       "    .dataframe thead th {\n",
       "        text-align: right;\n",
       "    }\n",
       "</style>\n",
       "<table border=\"1\" class=\"dataframe\">\n",
       "  <thead>\n",
       "    <tr style=\"text-align: right;\">\n",
       "      <th></th>\n",
       "      <th>Model Used</th>\n",
       "      <th>Highest Score</th>\n",
       "      <th>Best Params</th>\n",
       "    </tr>\n",
       "  </thead>\n",
       "  <tbody>\n",
       "    <tr>\n",
       "      <th>0</th>\n",
       "      <td>LogisticRegression(max_iter=10000)</td>\n",
       "      <td>0.841584</td>\n",
       "      <td>{'C': 1}</td>\n",
       "    </tr>\n",
       "    <tr>\n",
       "      <th>1</th>\n",
       "      <td>SVC()</td>\n",
       "      <td>0.848185</td>\n",
       "      <td>{'C': 3, 'kernel': 'linear'}</td>\n",
       "    </tr>\n",
       "    <tr>\n",
       "      <th>2</th>\n",
       "      <td>KNeighborsClassifier()</td>\n",
       "      <td>0.633663</td>\n",
       "      <td>{'n_neighbors': 6}</td>\n",
       "    </tr>\n",
       "    <tr>\n",
       "      <th>3</th>\n",
       "      <td>RandomForestClassifier(random_state=0)</td>\n",
       "      <td>0.821782</td>\n",
       "      <td>{'n_estimators': 100}</td>\n",
       "    </tr>\n",
       "  </tbody>\n",
       "</table>\n",
       "</div>"
      ],
      "text/plain": [
       "                               Model Used  Highest Score  \\\n",
       "0      LogisticRegression(max_iter=10000)       0.841584   \n",
       "1                                   SVC()       0.848185   \n",
       "2                  KNeighborsClassifier()       0.633663   \n",
       "3  RandomForestClassifier(random_state=0)       0.821782   \n",
       "\n",
       "                    Best Params  \n",
       "0                      {'C': 1}  \n",
       "1  {'C': 3, 'kernel': 'linear'}  \n",
       "2            {'n_neighbors': 6}  \n",
       "3         {'n_estimators': 100}  "
      ]
     },
     "execution_count": 56,
     "metadata": {},
     "output_type": "execute_result"
    }
   ],
   "source": [
    "model_selection(models, model_hyparams)"
   ]
  },
  {
   "cell_type": "code",
   "execution_count": null,
   "id": "13562954",
   "metadata": {},
   "outputs": [],
   "source": []
  }
 ],
 "metadata": {
  "kernelspec": {
   "display_name": "Python 3 (ipykernel)",
   "language": "python",
   "name": "python3"
  },
  "language_info": {
   "codemirror_mode": {
    "name": "ipython",
    "version": 3
   },
   "file_extension": ".py",
   "mimetype": "text/x-python",
   "name": "python",
   "nbconvert_exporter": "python",
   "pygments_lexer": "ipython3",
   "version": "3.8.12"
  }
 },
 "nbformat": 4,
 "nbformat_minor": 5
}
